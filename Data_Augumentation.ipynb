{
  "nbformat": 4,
  "nbformat_minor": 0,
  "metadata": {
    "colab": {
      "name": "Data Augumentation.ipynb",
      "provenance": [],
      "authorship_tag": "ABX9TyOFXJYftCQlyZ2ffdFFEGV2",
      "include_colab_link": true
    },
    "kernelspec": {
      "name": "python3",
      "display_name": "Python 3"
    }
  },
  "cells": [
    {
      "cell_type": "markdown",
      "metadata": {
        "id": "view-in-github",
        "colab_type": "text"
      },
      "source": [
        "<a href=\"https://colab.research.google.com/github/gabriel51israel/DeepLearning/blob/master/Data_Augumentation.ipynb\" target=\"_parent\"><img src=\"https://colab.research.google.com/assets/colab-badge.svg\" alt=\"Open In Colab\"/></a>"
      ]
    },
    {
      "cell_type": "code",
      "metadata": {
        "id": "evg7sSekozpH"
      },
      "source": [
        "#https://blog.keras.io/building-powerful-image-classification-models-using-very-little-data.html\r\n",
        "from keras.preprocessing.image import ImageDataGenerator, array_to_img, img_to_array, load_img\r\n",
        "\r\n",
        "datagen = ImageDataGenerator(\r\n",
        "        rotation_range=40,\r\n",
        "        width_shift_range=0.2,\r\n",
        "        height_shift_range=0.2,\r\n",
        "        shear_range=0.2,\r\n",
        "        zoom_range=0.2,\r\n",
        "        horizontal_flip=True,\r\n",
        "        fill_mode='nearest')\r\n",
        "\r\n",
        "img = load_img('dog.jpg')  # this is a PIL image\r\n",
        "x = img_to_array(img)  # this is a Numpy array with shape (3, 150, 150)\r\n",
        "x = x.reshape((1,) + x.shape)  # this is a Numpy array with shape (1, 3, 150, 150)\r\n",
        "\r\n",
        "# the .flow() command below generates batches of randomly transformed images\r\n",
        "# and saves the results to the `preview/` directory\r\n",
        "i = 0\r\n",
        "for batch in datagen.flow(x, batch_size=1,\r\n",
        "                          save_to_dir='preview', save_prefix='dog', save_format='jpg'):\r\n",
        "    i += 1\r\n",
        "    if i > 20:\r\n",
        "        break  # otherwise the generator would loop indefinitely"
      ],
      "execution_count": 7,
      "outputs": []
    },
    {
      "cell_type": "code",
      "metadata": {
        "id": "QsDl6Zh9sEAM"
      },
      "source": [
        "from google.colab import drive\n",
        "drive.mount('/content/drive')"
      ],
      "execution_count": null,
      "outputs": []
    },
    {
      "cell_type": "code",
      "metadata": {
        "colab": {
          "base_uri": "https://localhost:8080/"
        },
        "id": "kUQYBLpXpgVJ",
        "outputId": "b5ad3625-5a81-4464-abf7-3fe8ac8c88de"
      },
      "source": [
        "from google.colab import drive\r\n",
        "drive.mount('/content/drive')"
      ],
      "execution_count": null,
      "outputs": [
        {
          "output_type": "stream",
          "text": [
            "Mounted at /content/drive\n"
          ],
          "name": "stdout"
        }
      ]
    },
    {
      "cell_type": "code",
      "metadata": {
        "id": "W8nINgOYphmy"
      },
      "source": [
        ""
      ],
      "execution_count": null,
      "outputs": []
    }
  ]
}