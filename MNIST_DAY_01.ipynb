{
  "nbformat": 4,
  "nbformat_minor": 0,
  "metadata": {
    "colab": {
      "name": "MNIST_DAY_01.ipynb",
      "provenance": [],
      "collapsed_sections": []
    },
    "kernelspec": {
      "name": "python3",
      "display_name": "Python 3"
    }
  },
  "cells": [
    {
      "cell_type": "code",
      "metadata": {
        "id": "dBgVGNQWcIwu",
        "colab_type": "code",
        "colab": {}
      },
      "source": [
        "from keras.datasets import mnist"
      ],
      "execution_count": 1,
      "outputs": []
    },
    {
      "cell_type": "code",
      "metadata": {
        "id": "rDIxwA0AcO2e",
        "colab_type": "code",
        "colab": {
          "base_uri": "https://localhost:8080/",
          "height": 53
        },
        "outputId": "041ea8e6-2941-4246-a2af-6610ba161880"
      },
      "source": [
        "(train_images,train_labels), (test_images,test_labels) = mnist.load_data()"
      ],
      "execution_count": 2,
      "outputs": [
        {
          "output_type": "stream",
          "text": [
            "Downloading data from https://storage.googleapis.com/tensorflow/tf-keras-datasets/mnist.npz\n",
            "11493376/11490434 [==============================] - 0s 0us/step\n"
          ],
          "name": "stdout"
        }
      ]
    },
    {
      "cell_type": "code",
      "metadata": {
        "id": "XJjVW3Qzcgku",
        "colab_type": "code",
        "colab": {
          "base_uri": "https://localhost:8080/",
          "height": 35
        },
        "outputId": "6badb4c7-01ee-4558-8ab1-245c9a8d153b"
      },
      "source": [
        "train_images.shape"
      ],
      "execution_count": 3,
      "outputs": [
        {
          "output_type": "execute_result",
          "data": {
            "text/plain": [
              "(60000, 28, 28)"
            ]
          },
          "metadata": {
            "tags": []
          },
          "execution_count": 3
        }
      ]
    },
    {
      "cell_type": "code",
      "metadata": {
        "id": "M6vA6ncgcnTh",
        "colab_type": "code",
        "colab": {
          "base_uri": "https://localhost:8080/",
          "height": 35
        },
        "outputId": "e65e61bc-1c7e-406b-c6f6-0c1534c9626e"
      },
      "source": [
        "len(train_labels)"
      ],
      "execution_count": 4,
      "outputs": [
        {
          "output_type": "execute_result",
          "data": {
            "text/plain": [
              "60000"
            ]
          },
          "metadata": {
            "tags": []
          },
          "execution_count": 4
        }
      ]
    },
    {
      "cell_type": "code",
      "metadata": {
        "id": "9CZBK4gQcypQ",
        "colab_type": "code",
        "colab": {
          "base_uri": "https://localhost:8080/",
          "height": 35
        },
        "outputId": "34414578-06d4-4eac-cec0-617702b9e24c"
      },
      "source": [
        "print(train_labels)"
      ],
      "execution_count": 6,
      "outputs": [
        {
          "output_type": "stream",
          "text": [
            "[5 0 4 ... 5 6 8]\n"
          ],
          "name": "stdout"
        }
      ]
    },
    {
      "cell_type": "code",
      "metadata": {
        "id": "wSlDcfihc5fG",
        "colab_type": "code",
        "colab": {}
      },
      "source": [
        "from keras import models\n",
        "from keras import layers"
      ],
      "execution_count": 7,
      "outputs": []
    },
    {
      "cell_type": "code",
      "metadata": {
        "id": "rBzCVO9KdHK8",
        "colab_type": "code",
        "colab": {}
      },
      "source": [
        "network = models.Sequential()\n",
        "network.add(layers.Dense(512,activation='relu',input_shape=(28*28,)))\n",
        "network.add(layers.Dense(10,activation='softmax'))"
      ],
      "execution_count": 12,
      "outputs": []
    },
    {
      "cell_type": "code",
      "metadata": {
        "id": "yCOodoX-d6UC",
        "colab_type": "code",
        "colab": {}
      },
      "source": [
        "# Step3 : Compilaton Step\n",
        "network.compile(optimizer='rmsprop',loss='categorical_crossentropy',metrics=['accuracy'])"
      ],
      "execution_count": 13,
      "outputs": []
    },
    {
      "cell_type": "code",
      "metadata": {
        "id": "kDw9d-l6foMN",
        "colab_type": "code",
        "colab": {}
      },
      "source": [
        "#Step4 : Preparing the image data\n",
        "train_images = train_images.reshape((60000,28*28))\n",
        "train_images = train_images.astype('float32')/255\n",
        "\n",
        "test_images = test_images.reshape((10000,28*28))\n",
        "test_images = test_images.astype('float32')/255"
      ],
      "execution_count": 14,
      "outputs": []
    },
    {
      "cell_type": "code",
      "metadata": {
        "id": "rvBA6-KZgTjL",
        "colab_type": "code",
        "colab": {}
      },
      "source": [
        "#Preparing the labels\n",
        "from keras.utils import to_categorical\n",
        "train_labels = to_categorical(train_labels)\n",
        "test_labels = to_categorical(test_labels)"
      ],
      "execution_count": 15,
      "outputs": []
    },
    {
      "cell_type": "code",
      "metadata": {
        "id": "fFfBkrQCgos4",
        "colab_type": "code",
        "colab": {
          "base_uri": "https://localhost:8080/",
          "height": 323
        },
        "outputId": "b9cba888-258c-44a3-9ecd-db7b7bd2126e"
      },
      "source": [
        "network.fit(train_images,train_labels,epochs=8, batch_size=128)"
      ],
      "execution_count": 17,
      "outputs": [
        {
          "output_type": "stream",
          "text": [
            "Epoch 1/8\n",
            "469/469 [==============================] - 4s 9ms/step - loss: 0.0289 - accuracy: 0.9912\n",
            "Epoch 2/8\n",
            "469/469 [==============================] - 4s 9ms/step - loss: 0.0218 - accuracy: 0.9935\n",
            "Epoch 3/8\n",
            "469/469 [==============================] - 4s 9ms/step - loss: 0.0174 - accuracy: 0.9948\n",
            "Epoch 4/8\n",
            "469/469 [==============================] - 4s 9ms/step - loss: 0.0126 - accuracy: 0.9963\n",
            "Epoch 5/8\n",
            "469/469 [==============================] - 4s 9ms/step - loss: 0.0102 - accuracy: 0.9971\n",
            "Epoch 6/8\n",
            "469/469 [==============================] - 4s 9ms/step - loss: 0.0083 - accuracy: 0.9978\n",
            "Epoch 7/8\n",
            "469/469 [==============================] - 4s 9ms/step - loss: 0.0064 - accuracy: 0.9984\n",
            "Epoch 8/8\n",
            "469/469 [==============================] - 4s 9ms/step - loss: 0.0047 - accuracy: 0.9988\n"
          ],
          "name": "stdout"
        },
        {
          "output_type": "execute_result",
          "data": {
            "text/plain": [
              "<tensorflow.python.keras.callbacks.History at 0x7fc50da4cef0>"
            ]
          },
          "metadata": {
            "tags": []
          },
          "execution_count": 17
        }
      ]
    },
    {
      "cell_type": "code",
      "metadata": {
        "id": "1i5N__04g5y5",
        "colab_type": "code",
        "colab": {
          "base_uri": "https://localhost:8080/",
          "height": 53
        },
        "outputId": "43becadb-f812-4f59-eec2-89828d03fc4c"
      },
      "source": [
        "# Checking Model performance\n",
        "test_loss, test_acc = network.evaluate(test_images,test_labels)\n",
        "print('test Acc:',test_acc)"
      ],
      "execution_count": 18,
      "outputs": [
        {
          "output_type": "stream",
          "text": [
            "313/313 [==============================] - 1s 2ms/step - loss: 0.0758 - accuracy: 0.9827\n",
            "test Acc: 0.982699990272522\n"
          ],
          "name": "stdout"
        }
      ]
    },
    {
      "cell_type": "code",
      "metadata": {
        "id": "-OH4T_0shpVl",
        "colab_type": "code",
        "colab": {}
      },
      "source": [
        ""
      ],
      "execution_count": null,
      "outputs": []
    }
  ]
}