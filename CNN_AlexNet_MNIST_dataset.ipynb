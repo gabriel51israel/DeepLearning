{
  "nbformat": 4,
  "nbformat_minor": 0,
  "metadata": {
    "colab": {
      "name": "CNN_AlexNet_MNIST_dataset.ipynb",
      "provenance": [],
      "collapsed_sections": [],
      "authorship_tag": "ABX9TyOYjgMBjsKXRHzYQKWwY/Ry",
      "include_colab_link": true
    },
    "kernelspec": {
      "name": "python3",
      "display_name": "Python 3"
    }
  },
  "cells": [
    {
      "cell_type": "markdown",
      "metadata": {
        "id": "view-in-github",
        "colab_type": "text"
      },
      "source": [
        "<a href=\"https://colab.research.google.com/github/gabriel51israel/DeepLearning/blob/master/CNN_AlexNet_MNIST_dataset.ipynb\" target=\"_parent\"><img src=\"https://colab.research.google.com/assets/colab-badge.svg\" alt=\"Open In Colab\"/></a>"
      ]
    },
    {
      "cell_type": "code",
      "metadata": {
        "id": "PLWO1uVP_Quj"
      },
      "source": [
        "import keras "
      ],
      "execution_count": 1,
      "outputs": []
    },
    {
      "cell_type": "code",
      "metadata": {
        "id": "T4QJ0qTw_Xk7"
      },
      "source": [
        "from keras.datasets import mnist\r\n",
        "from keras.layers import Dense,Flatten\r\n",
        "from keras.layers import Conv2D,MaxPooling2D\r\n",
        "from keras.models import Sequential\r\n"
      ],
      "execution_count": 75,
      "outputs": []
    },
    {
      "cell_type": "code",
      "metadata": {
        "id": "jibk2KSY_xIS"
      },
      "source": [
        "(X_train,y_train),(X_test,y_test)=mnist.load_data()"
      ],
      "execution_count": 67,
      "outputs": []
    },
    {
      "cell_type": "code",
      "metadata": {
        "colab": {
          "base_uri": "https://localhost:8080/"
        },
        "id": "qMYdgmWCAFiW",
        "outputId": "0f825825-787a-493e-cd6e-5a5fb4cef738"
      },
      "source": [
        "print(\"Dimension of X_train data: \",X_train.shape)\r\n",
        "print(\"Dimension of y_train data: \",y_train.shape)\r\n",
        "print(\"Dimension of X_test data: \",X_test.shape)\r\n",
        "print(\"Dimension of y_test data: \",y_test.shape)"
      ],
      "execution_count": 6,
      "outputs": [
        {
          "output_type": "stream",
          "text": [
            "Dimension of X_train data:  (60000, 28, 28)\n",
            "Dimension of y_train data:  (60000,)\n",
            "Dimension of X_test data:  (10000, 28, 28)\n",
            "Dimension of y_test data:  (10000,)\n"
          ],
          "name": "stdout"
        }
      ]
    },
    {
      "cell_type": "code",
      "metadata": {
        "id": "QxZ0TAkIAk9z"
      },
      "source": [
        "X_train = X_train.reshape(X_train.shape[0],28,28,1)\r\n",
        "X_test = X_test.reshape(X_test.shape[0],28,28,1)"
      ],
      "execution_count": 68,
      "outputs": []
    },
    {
      "cell_type": "code",
      "metadata": {
        "id": "wVzVKsMxA6fV"
      },
      "source": [
        "#Normalize the img size\r\n",
        "y_train = y_train/255 \r\n",
        "y_test  = y_test/255"
      ],
      "execution_count": 69,
      "outputs": []
    },
    {
      "cell_type": "code",
      "metadata": {
        "colab": {
          "base_uri": "https://localhost:8080/"
        },
        "id": "xOg9eIqwBLGw",
        "outputId": "a246e129-943d-401b-db33-c15c422a6460"
      },
      "source": [
        "print(\"Dimension of X_train data: \",X_train.shape)\r\n",
        "print(\"Dimension of y_train data: \",y_train.shape)\r\n",
        "print(\"Dimension of X_test data: \",X_test.shape)\r\n",
        "print(\"Dimension of y_test data: \",y_test.shape)"
      ],
      "execution_count": 25,
      "outputs": [
        {
          "output_type": "stream",
          "text": [
            "Dimension of X_train data:  (60000, 28, 28, 1)\n",
            "Dimension of y_train data:  (60000,)\n",
            "Dimension of X_test data:  (10000, 28, 28, 1)\n",
            "Dimension of y_test data:  (10000,)\n"
          ],
          "name": "stdout"
        }
      ]
    },
    {
      "cell_type": "code",
      "metadata": {
        "id": "9O4HKA4jE81R"
      },
      "source": [
        "y_train = keras.utils.to_categorical(y_train,10)\r\n",
        "y_test = keras.utils.to_categorical(y_test,10)"
      ],
      "execution_count": 70,
      "outputs": []
    },
    {
      "cell_type": "code",
      "metadata": {
        "colab": {
          "base_uri": "https://localhost:8080/"
        },
        "id": "4HOvMDKxFX-H",
        "outputId": "65bfd436-810c-48c3-e65b-0d38464db849"
      },
      "source": [
        "#print(\"Dimension of X_train data: \",X_train.shape)\r\n",
        "print(\"Dimension of y_train data: \",y_train.shape)\r\n",
        "#print(\"Dimension of X_test data: \",X_test.shape)\r\n",
        "print(\"Dimension of y_test data: \",y_test.shape)"
      ],
      "execution_count": 71,
      "outputs": [
        {
          "output_type": "stream",
          "text": [
            "Dimension of y_train data:  (60000, 10)\n",
            "Dimension of y_test data:  (10000, 10)\n"
          ],
          "name": "stdout"
        }
      ]
    },
    {
      "cell_type": "code",
      "metadata": {
        "id": "JOdvO00JFjy9"
      },
      "source": [
        "model = keras.Sequential()"
      ],
      "execution_count": 80,
      "outputs": []
    },
    {
      "cell_type": "code",
      "metadata": {
        "id": "XbZiPCEIBa0K"
      },
      "source": [
        "model.add(Conv2D(filters=6, kernel_size=(5,5), activation='relu', input_shape=(28,28,1)))\r\n",
        "model.add(MaxPooling2D(pool_size=(2,2)))\r\n",
        "model.add(Conv2D(filters=16, kernel_size=(5,5), activation='relu'))\r\n",
        "model.add(MaxPooling2D(pool_size=(2,2)))\r\n",
        "model.add(Flatten())\r\n",
        "model.add(Dense(120,activation='relu'))\r\n",
        "model.add(Dense(84,activation='relu'))\r\n",
        "model.add(Dense(10,activation='softmax'))"
      ],
      "execution_count": 81,
      "outputs": []
    },
    {
      "cell_type": "code",
      "metadata": {
        "id": "xGIodJdACr5Y"
      },
      "source": [
        "model.compile(optimizer=keras.optimizers.Adam(),loss=keras.metrics.categorical_crossentropy,metrics=['Accuracy'])"
      ],
      "execution_count": 82,
      "outputs": []
    },
    {
      "cell_type": "code",
      "metadata": {
        "colab": {
          "base_uri": "https://localhost:8080/"
        },
        "id": "Dlxj6UY3D2nF",
        "outputId": "8f8649e2-83e6-4fbf-cdfe-5259c798bc63"
      },
      "source": [
        "model.compile(optimizer=keras.optimizers.Adam(),loss=keras.metrics.categorical_crossentropy,metrics=['Accuracy'])\r\n",
        "model1 = model.fit(X_train,y_train,batch_size=128,verbose=1,validation_data=(X_test,y_test),epochs=5,)"
      ],
      "execution_count": 83,
      "outputs": [
        {
          "output_type": "stream",
          "text": [
            "Epoch 1/5\n",
            "469/469 [==============================] - 22s 48ms/step - loss: 0.0195 - accuracy: 0.8436 - val_loss: 0.0000e+00 - val_accuracy: 0.8610\n",
            "Epoch 2/5\n",
            "469/469 [==============================] - 22s 47ms/step - loss: 0.0000e+00 - accuracy: 0.8617 - val_loss: 0.0000e+00 - val_accuracy: 0.8610\n",
            "Epoch 3/5\n",
            "469/469 [==============================] - 22s 47ms/step - loss: 0.0000e+00 - accuracy: 0.8617 - val_loss: 0.0000e+00 - val_accuracy: 0.8610\n",
            "Epoch 4/5\n",
            "469/469 [==============================] - 22s 47ms/step - loss: 0.0000e+00 - accuracy: 0.8617 - val_loss: 0.0000e+00 - val_accuracy: 0.8610\n",
            "Epoch 5/5\n",
            "469/469 [==============================] - 22s 47ms/step - loss: 0.0000e+00 - accuracy: 0.8617 - val_loss: 0.0000e+00 - val_accuracy: 0.8610\n"
          ],
          "name": "stdout"
        }
      ]
    },
    {
      "cell_type": "code",
      "metadata": {
        "colab": {
          "base_uri": "https://localhost:8080/"
        },
        "id": "MoWp-xBTLLjc",
        "outputId": "6a636355-b50d-42f0-a2f4-4532296fdf2d"
      },
      "source": [
        "model.metrics_names"
      ],
      "execution_count": 65,
      "outputs": [
        {
          "output_type": "execute_result",
          "data": {
            "text/plain": [
              "['loss', 'accuracy']"
            ]
          },
          "metadata": {
            "tags": []
          },
          "execution_count": 65
        }
      ]
    },
    {
      "cell_type": "code",
      "metadata": {
        "id": "cQqdIyZ9R2xI"
      },
      "source": [
        "model1.history??"
      ],
      "execution_count": 88,
      "outputs": []
    },
    {
      "cell_type": "code",
      "metadata": {
        "colab": {
          "base_uri": "https://localhost:8080/",
          "height": 300
        },
        "id": "JN7amZV6WArq",
        "outputId": "c3450e00-3bf3-490e-c2cb-308077c23684"
      },
      "source": [
        "#Accuracy Graph\r\n",
        "%matplotlib inline\r\n",
        "import matplotlib.pyplot as plt\r\n",
        "plt.plot(model1.history['accuracy'])\r\n",
        "plt.plot(model1.history['val_accuracy'])\r\n",
        "plt.legend(['Train','Val'],loc='upper left')\r\n",
        "plt.xlabel('Epochs')\r\n",
        "plt.ylabel('Loss')\r\n",
        "#plt.show()"
      ],
      "execution_count": 93,
      "outputs": [
        {
          "output_type": "execute_result",
          "data": {
            "text/plain": [
              "Text(0, 0.5, 'Loss')"
            ]
          },
          "metadata": {
            "tags": []
          },
          "execution_count": 93
        },
        {
          "output_type": "display_data",
          "data": {
            "image/png": "[encoded data removed]",
            "text/plain": [
              "<Figure size 432x288 with 1 Axes>"
            ]
          },
          "metadata": {
            "tags": [],
            "needs_background": "light"
          }
        }
      ]
    },
    {
      "cell_type": "code",
      "metadata": {
        "colab": {
          "base_uri": "https://localhost:8080/",
          "height": 295
        },
        "id": "GZr6_XM5Wt9l",
        "outputId": "dd978aa5-605f-407f-f75e-7e65c5833657"
      },
      "source": [
        "#Loss Graph\r\n",
        "%matplotlib inline\r\n",
        "import matplotlib.pyplot as plt\r\n",
        "loss_train = model1.history['loss']\r\n",
        "loss_val = model1.history['val_loss']\r\n",
        "epochs = range(1,6)\r\n",
        "plt.plot(epochs, loss_train, 'g', label='Training loss')\r\n",
        "plt.plot(epochs, loss_val, 'b', label='validation loss')\r\n",
        "plt.title('Training and Validation loss')\r\n",
        "plt.xlabel('Epochs')\r\n",
        "plt.ylabel('Loss')\r\n",
        "plt.legend()\r\n",
        "plt.show()"
      ],
      "execution_count": 96,
      "outputs": [
        {
          "output_type": "display_data",
          "data": {
            "image/png": "[encoded data removed]",
            "text/plain": [
              "<Figure size 432x288 with 1 Axes>"
            ]
          },
          "metadata": {
            "tags": [],
            "needs_background": "light"
          }
        }
      ]
    },
    {
      "cell_type": "code",
      "metadata": {
        "id": "Nxeb2VVEXLiv"
      },
      "source": [
        "#Keras's fit() does not return the model but it returns a History object that contain \r\n",
        "#per-epoch loss and metrics. The code pattern you are using will simply not work with Keras."
      ],
      "execution_count": null,
      "outputs": []
    }
  ]
}